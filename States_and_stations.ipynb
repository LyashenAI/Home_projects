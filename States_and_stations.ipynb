{
  "nbformat": 4,
  "nbformat_minor": 0,
  "metadata": {
    "colab": {
      "provenance": [],
      "authorship_tag": "ABX9TyN89IsAVbj5urXnDfdhh2Yg",
      "include_colab_link": true
    },
    "kernelspec": {
      "name": "python3",
      "display_name": "Python 3"
    },
    "language_info": {
      "name": "python"
    }
  },
  "cells": [
    {
      "cell_type": "markdown",
      "metadata": {
        "id": "view-in-github",
        "colab_type": "text"
      },
      "source": [
        "<a href=\"https://colab.research.google.com/github/LyashenAI/Home_projects/blob/main/States_and_stations.ipynb\" target=\"_parent\"><img src=\"https://colab.research.google.com/assets/colab-badge.svg\" alt=\"Open In Colab\"/></a>"
      ]
    },
    {
      "cell_type": "markdown",
      "source": [
        "**Задача о покрытии множества**\n",
        "\n",
        "Вы открываете собственную авторскую программу на радио и хотите, чтобы вас слушали во всех 50 штатах. Нужно решить, на каких радиостанциях должна транслироваться ваша передача. Каждая станция стоит денег, поэтому количество станций необходимо свести к минимуму."
      ],
      "metadata": {
        "id": "9JEltDSxNtef"
      }
    },
    {
      "cell_type": "code",
      "execution_count": 1,
      "metadata": {
        "colab": {
          "base_uri": "https://localhost:8080/"
        },
        "id": "unkE0WNVLGa-",
        "outputId": "7c28ccc8-3b4a-4c8c-b812-d6216b9459e0"
      },
      "outputs": [
        {
          "output_type": "stream",
          "name": "stdout",
          "text": [
            "{'kone', 'kfive', 'ktwo', 'kthree'}\n"
          ]
        }
      ],
      "source": [
        "states_needed = set(['mt', 'wa', 'or', 'id', 'nv', 'ut', 'ca', 'az']) #список штатов\n",
        "stations = {} #хеш станций\n",
        "stations['kone'] = set(['id', 'nv', 'ut'])\n",
        "stations['ktwo'] = set(['wa', 'id', 'mt'])\n",
        "stations['kthree'] = set(['or', 'nv', 'ka'])\n",
        "stations['kfour'] = set(['nv', 'ut'])\n",
        "stations['kfive'] = set(['ca', 'az'])\n",
        "final_stations = set() #итоговый набор станций\n",
        "while states_needed: #пока есть не покрытые штаты\n",
        "    best_station = None\n",
        "    states_covered = set() #штаты которые обслуживаются лучшей станцией\n",
        "    for station, states_for_station in stations.items(): #для каждой пары ключ-значение в списке станций\n",
        "      covered = states_needed & states_for_station # количество нужных штатов в этой станции\n",
        "      if len(covered) > len(states_covered): # если количество нужных штатов в этой станции больше, чем число штатов в лучшей станции\n",
        "        best_station = station # то лучшей становится текущая станция\n",
        "        states_covered = covered # ее штаты\n",
        "    final_stations.add(best_station)\n",
        "    states_needed -= states_covered\n",
        "\n",
        "print(final_stations)"
      ]
    }
  ]
}