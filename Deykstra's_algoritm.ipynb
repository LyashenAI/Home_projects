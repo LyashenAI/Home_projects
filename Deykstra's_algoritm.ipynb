{
  "nbformat": 4,
  "nbformat_minor": 0,
  "metadata": {
    "colab": {
      "provenance": [],
      "authorship_tag": "ABX9TyOkgrQk6zuCatF4PORzhnsB",
      "include_colab_link": true
    },
    "kernelspec": {
      "name": "python3",
      "display_name": "Python 3"
    },
    "language_info": {
      "name": "python"
    }
  },
  "cells": [
    {
      "cell_type": "markdown",
      "metadata": {
        "id": "view-in-github",
        "colab_type": "text"
      },
      "source": [
        "<a href=\"https://colab.research.google.com/github/LyashenAI/Home_projects/blob/main/Deykstra's_algoritm.ipynb\" target=\"_parent\"><img src=\"https://colab.research.google.com/assets/colab-badge.svg\" alt=\"Open In Colab\"/></a>"
      ]
    },
    {
      "cell_type": "code",
      "execution_count": 2,
      "metadata": {
        "colab": {
          "base_uri": "https://localhost:8080/"
        },
        "id": "6FjuS1y9hV8d",
        "outputId": "6a0efdb8-d0a3-4e50-f032-8419b93c9ea5"
      },
      "outputs": [
        {
          "output_type": "stream",
          "name": "stdout",
          "text": [
            "dict_keys(['a', 'b'])\n"
          ]
        }
      ],
      "source": [
        "import math\n",
        "\n",
        "def find_lowest_cost_node(costs):\n",
        "    lowest_cost = float('inf')\n",
        "    lowest_cost_node = None\n",
        "    for node in costs:\n",
        "        cost = costs[node]\n",
        "        if cost < lowest_cost and node not in processed:\n",
        "            lowest_cost = cost\n",
        "            lowest_cost_node = node\n",
        "    return lowest_cost_node\n",
        "\n",
        "graph = {}\n",
        "graph['start'] = {}\n",
        "graph['start']['a'] = 6\n",
        "graph['start']['b'] = 2\n",
        "graph['a'] = {}\n",
        "graph['a']['fin'] = 1\n",
        "graph['b'] = {}\n",
        "graph['b']['a'] = 3\n",
        "graph['b']['fin'] = 5\n",
        "graph['fin'] = {}\n",
        "\n",
        "infinity = float('inf')\n",
        "costs = {}\n",
        "costs['a'] = 6\n",
        "costs['b'] = 2\n",
        "costs['fin'] = infinity\n",
        "\n",
        "parents = {}\n",
        "parents['a'] = 'start'\n",
        "parents['b'] = 'start'\n",
        "parents['fin'] = None\n",
        "\n",
        "processed = []\n",
        "\n",
        "node = find_lowest_cost_node(costs)\n",
        "while node is not None:\n",
        "    cost = costs[node]\n",
        "    neighbors = graph[node]\n",
        "    for n in neighbors.keys():\n",
        "        new_cost = cost + neighbors[n]\n",
        "        if costs[n] > new_cost:\n",
        "            costs[n] = new_cost\n",
        "            parents[n] = node\n",
        "    processed.append(node)\n",
        "    node = find_lowest_cost_node(costs)\n",
        "\n",
        "print(graph['start'].keys())"
      ]
    }
  ]
}